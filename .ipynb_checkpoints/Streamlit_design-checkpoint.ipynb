{
 "cells": [
  {
   "cell_type": "code",
   "execution_count": 5,
   "id": "9bcbbbfb",
   "metadata": {},
   "outputs": [
    {
     "name": "stderr",
     "output_type": "stream",
     "text": [
      "2025-07-01 16:55:11.522 Thread 'MainThread': missing ScriptRunContext! This warning can be ignored when running in bare mode.\n",
      "2025-07-01 16:55:11.526 Thread 'MainThread': missing ScriptRunContext! This warning can be ignored when running in bare mode.\n",
      "2025-07-01 16:55:11.527 Thread 'MainThread': missing ScriptRunContext! This warning can be ignored when running in bare mode.\n",
      "2025-07-01 16:55:11.550 Thread 'MainThread': missing ScriptRunContext! This warning can be ignored when running in bare mode.\n",
      "2025-07-01 16:55:11.551 Thread 'MainThread': missing ScriptRunContext! This warning can be ignored when running in bare mode.\n",
      "2025-07-01 16:55:11.552 Thread 'MainThread': missing ScriptRunContext! This warning can be ignored when running in bare mode.\n",
      "2025-07-01 16:55:11.554 Thread 'MainThread': missing ScriptRunContext! This warning can be ignored when running in bare mode.\n",
      "2025-07-01 16:55:11.555 Thread 'MainThread': missing ScriptRunContext! This warning can be ignored when running in bare mode.\n",
      "2025-07-01 16:55:11.556 Thread 'MainThread': missing ScriptRunContext! This warning can be ignored when running in bare mode.\n",
      "2025-07-01 16:55:11.560 Thread 'MainThread': missing ScriptRunContext! This warning can be ignored when running in bare mode.\n",
      "2025-07-01 16:55:11.561 Thread 'MainThread': missing ScriptRunContext! This warning can be ignored when running in bare mode.\n",
      "2025-07-01 16:55:11.565 Thread 'MainThread': missing ScriptRunContext! This warning can be ignored when running in bare mode.\n",
      "2025-07-01 16:55:11.567 Thread 'MainThread': missing ScriptRunContext! This warning can be ignored when running in bare mode.\n",
      "2025-07-01 16:55:11.568 Thread 'MainThread': missing ScriptRunContext! This warning can be ignored when running in bare mode.\n",
      "2025-07-01 16:55:11.568 Thread 'MainThread': missing ScriptRunContext! This warning can be ignored when running in bare mode.\n",
      "2025-07-01 16:55:11.569 Thread 'MainThread': missing ScriptRunContext! This warning can be ignored when running in bare mode.\n",
      "2025-07-01 16:55:11.570 Thread 'MainThread': missing ScriptRunContext! This warning can be ignored when running in bare mode.\n",
      "2025-07-01 16:55:11.571 Thread 'MainThread': missing ScriptRunContext! This warning can be ignored when running in bare mode.\n",
      "2025-07-01 16:55:11.571 Thread 'MainThread': missing ScriptRunContext! This warning can be ignored when running in bare mode.\n",
      "2025-07-01 16:55:11.572 Thread 'MainThread': missing ScriptRunContext! This warning can be ignored when running in bare mode.\n",
      "2025-07-01 16:55:11.574 Thread 'MainThread': missing ScriptRunContext! This warning can be ignored when running in bare mode.\n",
      "2025-07-01 16:55:11.576 Thread 'MainThread': missing ScriptRunContext! This warning can be ignored when running in bare mode.\n",
      "2025-07-01 16:55:11.605 Thread 'MainThread': missing ScriptRunContext! This warning can be ignored when running in bare mode.\n",
      "2025-07-01 16:55:12.051 Thread 'MainThread': missing ScriptRunContext! This warning can be ignored when running in bare mode.\n",
      "2025-07-01 16:55:12.051 Thread 'MainThread': missing ScriptRunContext! This warning can be ignored when running in bare mode.\n",
      "2025-07-01 16:55:12.052 Thread 'MainThread': missing ScriptRunContext! This warning can be ignored when running in bare mode.\n"
     ]
    }
   ],
   "source": [
    "# app.py\n",
    "import streamlit as st\n",
    "import pandas as pd\n",
    "import matplotlib.pyplot as plt\n",
    "\n",
    "# 页面标题\n",
    "st.title(\"NBA MVP vs FMVP Stats (2020–2025)\")\n",
    "\n",
    "# 加载数据\n",
    "df = pd.read_csv(\"output/nba_selected_stats.csv\")\n",
    "\n",
    "# 显示原始数据（可选）\n",
    "if st.checkbox(\"Show raw data\"):\n",
    "    st.dataframe(df)\n",
    "\n",
    "# 选择球员\n",
    "players = df[\"Player\"].unique()\n",
    "selected_players = st.multiselect(\"Select players\", players, default=players[:2])\n",
    "\n",
    "# 定义一个字典，映射缩写 -> 完整名称\n",
    "metric_names = {\n",
    "    \"PTS\": \"Points\",\n",
    "    \"TRB\": \"Total Rebound\",\n",
    "    \"AST\": \"Assists\",\n",
    "    \"STL\": \"Steals\",\n",
    "    \"BLK\": \"Blocks\",\n",
    "    \"TOV\": \"Turnovers\",\n",
    "    \"BPM\": \"Box Plus/Minus\",\n",
    "    \"PER\": \"Player Efficiency Rating\",\n",
    "    \"WS\": \"Win Shares\"\n",
    "}\n",
    "\n",
    "metrics = list(metric_names.keys())\n",
    "selected_metric = st.selectbox(\"Select a stat to compare\", metrics)\n",
    "\n",
    "# 画图部分\n",
    "if selected_players and selected_metric:\n",
    "    fig, ax = plt.subplots(figsize=(10, 5))\n",
    "    for player in selected_players:\n",
    "        sub = df[df[\"Player\"] == player]\n",
    "        ax.plot(sub[\"Season\"], sub[selected_metric], marker=\"o\", label=player)\n",
    "\n",
    "    # 设置标题和坐标轴标签，使用映射字典\n",
    "    ax.set_title(f\"{metric_names[selected_metric]} by Season\")\n",
    "    ax.set_xlabel(\"Season\")\n",
    "    ax.set_ylabel(metric_names[selected_metric])\n",
    "    ax.legend()\n",
    "    ax.grid(True)\n",
    "    st.pyplot(fig)\n"
   ]
  },
  {
   "cell_type": "code",
   "execution_count": null,
   "id": "97e4d9f9",
   "metadata": {},
   "outputs": [],
   "source": []
  }
 ],
 "metadata": {
  "kernelspec": {
   "display_name": "Python 3 (ipykernel)",
   "language": "python",
   "name": "python3"
  },
  "language_info": {
   "codemirror_mode": {
    "name": "ipython",
    "version": 3
   },
   "file_extension": ".py",
   "mimetype": "text/x-python",
   "name": "python",
   "nbconvert_exporter": "python",
   "pygments_lexer": "ipython3",
   "version": "3.11.5"
  }
 },
 "nbformat": 4,
 "nbformat_minor": 5
}
